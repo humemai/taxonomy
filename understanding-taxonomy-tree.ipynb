{
 "cells": [
  {
   "cell_type": "markdown",
   "metadata": {},
   "source": [
    "## Look for specific entity"
   ]
  },
  {
   "cell_type": "code",
   "execution_count": 44,
   "metadata": {},
   "outputs": [
    {
     "name": "stderr",
     "output_type": "stream",
     "text": [
      "100%|██████████| 36/36 [00:00<00:00, 291496.03it/s]"
     ]
    },
    {
     "name": "stdout",
     "output_type": "stream",
     "text": [
      "./trees/model_size_small_num_classes_100_allowed_threshold_0.5_loss_threshold_0.1_top_p_0.9_max_depth_14_max_width_128_temperature_0.75_width_decay_factor_0.75.json: 124\n",
      "./trees/model_size_small_num_classes_100_allowed_threshold_0.5_loss_threshold_0.1_top_p_0.9_max_depth_15_max_width_128_temperature_0.75_width_decay_factor_0.76.json: 76\n",
      "./trees/model_size_small_num_classes_100_allowed_threshold_0.5_loss_threshold_0.1_top_p_0.9_max_depth_13_max_width_128_temperature_0.75_width_decay_factor_0.73.json: 28\n",
      "./trees/model_size_small_num_classes_100_allowed_threshold_0.5_loss_threshold_0.1_top_p_0.9_max_depth_12_max_width_128_temperature_0.75_width_decay_factor_0.71.json: 16\n",
      "./trees/model_size_small_num_classes_100_allowed_threshold_0.5_loss_threshold_0.1_top_p_0.9_max_depth_11_max_width_128_temperature_0.75_width_decay_factor_0.69.json: 15\n",
      "./trees/model_size_small_num_classes_100_allowed_threshold_0.5_loss_threshold_0.1_top_p_0.9_max_depth_10_max_width_128_temperature_0.75_width_decay_factor_0.66.json: 8\n",
      "./trees/model_size_small_num_classes_100_allowed_threshold_0.5_loss_threshold_0.1_top_p_0.9_max_depth_8_max_width_128_temperature_0.75_width_decay_factor_0.6.json: 5\n",
      "./trees/model_size_small_num_classes_100_allowed_threshold_0.5_loss_threshold_0.1_top_p_0.9_max_depth_7_max_width_128_temperature_0.75_width_decay_factor_0.56.json: 0\n",
      "./trees/model_size_small_num_classes_10000_allowed_threshold_0.5_loss_threshold_0.1_top_p_0.9_max_depth_4_max_width_128_temperature_0.75_width_decay_factor_0.36.json: 0\n",
      "./trees/model_size_small_num_classes_10000_allowed_threshold_0.5_loss_threshold_0.1_top_p_0.9_max_depth_14_max_width_128_temperature_0.75_width_decay_factor_0.75.json: 0\n",
      "./trees/model_size_small_num_classes_100_allowed_threshold_0.5_loss_threshold_0.1_top_p_0.9_max_depth_6_max_width_128_temperature_0.75_width_decay_factor_0.5.json: 0\n",
      "./trees/model_size_small_num_classes_10000_allowed_threshold_0.5_loss_threshold_0.1_top_p_0.9_max_depth_5_max_width_128_temperature_0.75_width_decay_factor_0.44.json: 0\n",
      "./trees/model_size_small_num_classes_10000_allowed_threshold_0.5_loss_threshold_0.1_top_p_0.9_max_depth_6_max_width_128_temperature_0.75_width_decay_factor_0.5.json: 0\n",
      "./trees/model_size_small_num_classes_10000_allowed_threshold_0.5_loss_threshold_0.1_top_p_0.9_max_depth_13_max_width_128_temperature_0.75_width_decay_factor_0.73.json: 0\n",
      "./trees/model_size_small_num_classes_1000_allowed_threshold_0.5_loss_threshold_0.1_top_p_0.9_max_depth_12_max_width_128_temperature_0.75_width_decay_factor_0.71.json: 0\n",
      "./trees/model_size_small_num_classes_10000_allowed_threshold_0.5_loss_threshold_0.1_top_p_0.9_max_depth_12_max_width_128_temperature_0.75_width_decay_factor_0.71.json: 0\n",
      "./trees/model_size_small_num_classes_100_allowed_threshold_0.5_loss_threshold_0.1_top_p_0.9_max_depth_5_max_width_128_temperature_0.75_width_decay_factor_0.44.json: 0\n",
      "./trees/model_size_small_num_classes_1000_allowed_threshold_0.5_loss_threshold_0.1_top_p_0.9_max_depth_14_max_width_128_temperature_0.75_width_decay_factor_0.75.json: 0\n",
      "./trees/model_size_small_num_classes_1000_allowed_threshold_0.5_loss_threshold_0.1_top_p_0.9_max_depth_4_max_width_128_temperature_0.75_width_decay_factor_0.36.json: 0\n",
      "./trees/model_size_small_num_classes_1000_allowed_threshold_0.5_loss_threshold_0.1_top_p_0.9_max_depth_7_max_width_128_temperature_0.75_width_decay_factor_0.56.json: 0\n",
      "./trees/model_size_small_num_classes_1000_allowed_threshold_0.5_loss_threshold_0.1_top_p_0.9_max_depth_6_max_width_128_temperature_0.75_width_decay_factor_0.5.json: 0\n",
      "./trees/model_size_small_num_classes_10000_allowed_threshold_0.5_loss_threshold_0.1_top_p_0.9_max_depth_15_max_width_128_temperature_0.75_width_decay_factor_0.76.json: 0\n",
      "./trees/model_size_small_num_classes_1000_allowed_threshold_0.5_loss_threshold_0.1_top_p_0.9_max_depth_5_max_width_128_temperature_0.75_width_decay_factor_0.44.json: 0\n",
      "./trees/model_size_small_num_classes_10000_allowed_threshold_0.5_loss_threshold_0.1_top_p_0.9_max_depth_10_max_width_128_temperature_0.75_width_decay_factor_0.66.json: 0\n",
      "./trees/model_size_small_num_classes_1000_allowed_threshold_0.5_loss_threshold_0.1_top_p_0.9_max_depth_8_max_width_128_temperature_0.75_width_decay_factor_0.6.json: 0\n",
      "./trees/model_size_small_num_classes_1000_allowed_threshold_0.5_loss_threshold_0.1_top_p_0.9_max_depth_13_max_width_128_temperature_0.75_width_decay_factor_0.73.json: 0\n",
      "./trees/model_size_small_num_classes_1000_allowed_threshold_0.5_loss_threshold_0.1_top_p_0.9_max_depth_11_max_width_128_temperature_0.75_width_decay_factor_0.69.json: 0\n",
      "./trees/model_size_small_num_classes_100_allowed_threshold_0.5_loss_threshold_0.1_top_p_0.9_max_depth_9_max_width_128_temperature_0.75_width_decay_factor_0.63.json: 0\n",
      "./trees/model_size_small_num_classes_10000_allowed_threshold_0.5_loss_threshold_0.1_top_p_0.9_max_depth_8_max_width_128_temperature_0.75_width_decay_factor_0.6.json: 0\n",
      "./trees/model_size_small_num_classes_10000_allowed_threshold_0.5_loss_threshold_0.1_top_p_0.9_max_depth_11_max_width_128_temperature_0.75_width_decay_factor_0.69.json: 0\n",
      "./trees/model_size_small_num_classes_10000_allowed_threshold_0.5_loss_threshold_0.1_top_p_0.9_max_depth_7_max_width_128_temperature_0.75_width_decay_factor_0.56.json: 0\n",
      "./trees/model_size_small_num_classes_1000_allowed_threshold_0.5_loss_threshold_0.1_top_p_0.9_max_depth_10_max_width_128_temperature_0.75_width_decay_factor_0.66.json: 0\n",
      "./trees/model_size_small_num_classes_100_allowed_threshold_0.5_loss_threshold_0.1_top_p_0.9_max_depth_4_max_width_128_temperature_0.75_width_decay_factor_0.36.json: 0\n",
      "./trees/model_size_small_num_classes_10000_allowed_threshold_0.5_loss_threshold_0.1_top_p_0.9_max_depth_9_max_width_128_temperature_0.75_width_decay_factor_0.63.json: 0\n",
      "./trees/model_size_small_num_classes_1000_allowed_threshold_0.5_loss_threshold_0.1_top_p_0.9_max_depth_15_max_width_128_temperature_0.75_width_decay_factor_0.76.json: 0\n",
      "./trees/model_size_small_num_classes_1000_allowed_threshold_0.5_loss_threshold_0.1_top_p_0.9_max_depth_9_max_width_128_temperature_0.75_width_decay_factor_0.63.json: 0\n"
     ]
    },
    {
     "name": "stderr",
     "output_type": "stream",
     "text": [
      "\n"
     ]
    }
   ],
   "source": [
    "import glob\n",
    "import json\n",
    "from tqdm.auto import tqdm\n",
    "\n",
    "file_pattern = './trees/*.json'\n",
    "search_term = '(Q5)'  # the string to search for\n",
    "\n",
    "results = []\n",
    "\n",
    "# Loop through all JSON files matching the pattern\n",
    "for file_path in glob.glob(file_pattern):\n",
    "    try:\n",
    "        with open(file_path, 'r', encoding='utf-8') as file:\n",
    "            data = json.load(file)\n",
    "        \n",
    "        # Get the nodes list (if it exists)\n",
    "        nodes = data.get('nodes', [])\n",
    "        \n",
    "        # Count how many node labels contain the search term\n",
    "        count = sum(1 for node in nodes if search_term in node.get('label', ''))\n",
    "        \n",
    "        results.append((file_path, count))\n",
    "    except Exception as e:\n",
    "        print(f\"Error processing {file_path}: {e}\")\n",
    "\n",
    "# Sort results in descending order of the counts\n",
    "results.sort(key=lambda x: x[1], reverse=True)\n",
    "\n",
    "# Print out the filename and the count in sorted order\n",
    "for file_path, count in tqdm(results):\n",
    "    print(f\"{file_path}: {count}\")\n"
   ]
  },
  {
   "cell_type": "markdown",
   "metadata": {},
   "source": [
    "## Sort by entropy"
   ]
  },
  {
   "cell_type": "code",
   "execution_count": 1,
   "metadata": {},
   "outputs": [
    {
     "name": "stderr",
     "output_type": "stream",
     "text": [
      "/home/tk/.virtualenvs/dev-python3.11/lib/python3.11/site-packages/tqdm/auto.py:21: TqdmWarning: IProgress not found. Please update jupyter and ipywidgets. See https://ipywidgets.readthedocs.io/en/stable/user_install.html\n",
      "  from .autonotebook import tqdm as notebook_tqdm\n",
      "100%|██████████| 38/38 [00:00<00:00, 260430.64it/s]"
     ]
    },
    {
     "name": "stdout",
     "output_type": "stream",
     "text": [
      "./trees/model_size_small_num_classes_10000_allowed_threshold_0.5_loss_threshold_0.1_top_p_0.9_max_depth_12_max_width_128_temperature_0.75_width_decay_factor_0.71.json: Entropy = 11.2245, Normalized Entropy = 0.9065\n",
      "./trees/model_size_small_num_classes_10000_allowed_threshold_0.5_loss_threshold_0.1_top_p_0.9_max_depth_11_max_width_128_temperature_0.75_width_decay_factor_0.69.json: Entropy = 11.2107, Normalized Entropy = 0.9201\n",
      "./trees/model_size_small_num_classes_10000_allowed_threshold_0.5_loss_threshold_0.1_top_p_0.9_max_depth_10_max_width_128_temperature_0.75_width_decay_factor_0.66.json: Entropy = 11.0419, Normalized Entropy = 0.9420\n",
      "./trees/model_size_small_num_classes_10000_allowed_threshold_0.5_loss_threshold_0.1_top_p_0.9_max_depth_13_max_width_128_temperature_0.75_width_decay_factor_0.73.json: Entropy = 10.9718, Normalized Entropy = 0.8697\n",
      "./trees/model_size_small_num_classes_10000_allowed_threshold_0.5_loss_threshold_0.1_top_p_0.9_max_depth_14_max_width_128_temperature_0.75_width_decay_factor_0.75.json: Entropy = 10.7955, Normalized Entropy = 0.8364\n",
      "./trees/model_size_small_num_classes_10000_allowed_threshold_0.5_loss_threshold_0.1_top_p_0.9_max_depth_9_max_width_128_temperature_0.75_width_decay_factor_0.63.json: Entropy = 10.7314, Normalized Entropy = 0.9493\n",
      "./trees/model_size_small_num_classes_10000_allowed_threshold_0.5_loss_threshold_0.1_top_p_0.9_max_depth_15_max_width_128_temperature_0.75_width_decay_factor_0.76.json: Entropy = 10.6239, Normalized Entropy = 0.8194\n",
      "./trees/model_size_small_num_classes_10000_allowed_threshold_0.5_loss_threshold_0.1_top_p_0.9_max_depth_16_max_width_128_temperature_0.75_width_decay_factor_0.78.json: Entropy = 10.3199, Normalized Entropy = 0.7793\n",
      "./trees/model_size_small_num_classes_10000_allowed_threshold_0.5_loss_threshold_0.1_top_p_0.9_max_depth_8_max_width_128_temperature_0.75_width_decay_factor_0.6.json: Entropy = 10.2257, Normalized Entropy = 0.9574\n",
      "./trees/model_size_small_num_classes_1000_allowed_threshold_0.5_loss_threshold_0.1_top_p_0.9_max_depth_11_max_width_128_temperature_0.75_width_decay_factor_0.69.json: Entropy = 10.0710, Normalized Entropy = 0.9057\n",
      "./trees/model_size_small_num_classes_1000_allowed_threshold_0.5_loss_threshold_0.1_top_p_0.9_max_depth_12_max_width_128_temperature_0.75_width_decay_factor_0.71.json: Entropy = 9.9508, Normalized Entropy = 0.8885\n",
      "./trees/model_size_small_num_classes_1000_allowed_threshold_0.5_loss_threshold_0.1_top_p_0.9_max_depth_10_max_width_128_temperature_0.75_width_decay_factor_0.66.json: Entropy = 9.9367, Normalized Entropy = 0.9336\n",
      "./trees/model_size_small_num_classes_1000_allowed_threshold_0.5_loss_threshold_0.1_top_p_0.9_max_depth_13_max_width_128_temperature_0.75_width_decay_factor_0.73.json: Entropy = 9.8605, Normalized Entropy = 0.8609\n",
      "./trees/model_size_small_num_classes_1000_allowed_threshold_0.5_loss_threshold_0.1_top_p_0.9_max_depth_9_max_width_128_temperature_0.75_width_decay_factor_0.63.json: Entropy = 9.7321, Normalized Entropy = 0.9433\n",
      "./trees/model_size_small_num_classes_1000_allowed_threshold_0.5_loss_threshold_0.1_top_p_0.9_max_depth_15_max_width_128_temperature_0.75_width_decay_factor_0.76.json: Entropy = 9.5581, Normalized Entropy = 0.8122\n",
      "./trees/model_size_small_num_classes_1000_allowed_threshold_0.5_loss_threshold_0.1_top_p_0.9_max_depth_14_max_width_128_temperature_0.75_width_decay_factor_0.75.json: Entropy = 9.4919, Normalized Entropy = 0.8031\n",
      "./trees/model_size_small_num_classes_1000_allowed_threshold_0.5_loss_threshold_0.1_top_p_0.9_max_depth_8_max_width_128_temperature_0.75_width_decay_factor_0.6.json: Entropy = 9.4476, Normalized Entropy = 0.9483\n",
      "./trees/model_size_small_num_classes_10000_allowed_threshold_0.5_loss_threshold_0.1_top_p_0.9_max_depth_7_max_width_128_temperature_0.75_width_decay_factor_0.56.json: Entropy = 9.1176, Normalized Entropy = 0.9548\n",
      "./trees/model_size_small_num_classes_1000_allowed_threshold_0.5_loss_threshold_0.1_top_p_0.9_max_depth_16_max_width_128_temperature_0.75_width_decay_factor_0.78.json: Entropy = 9.0332, Normalized Entropy = 0.7445\n",
      "./trees/model_size_small_num_classes_100_allowed_threshold_0.5_loss_threshold_0.1_top_p_0.9_max_depth_11_max_width_128_temperature_0.75_width_decay_factor_0.69.json: Entropy = 8.9589, Normalized Entropy = 0.8939\n",
      "./trees/model_size_small_num_classes_100_allowed_threshold_0.5_loss_threshold_0.1_top_p_0.9_max_depth_12_max_width_128_temperature_0.75_width_decay_factor_0.71.json: Entropy = 8.9476, Normalized Entropy = 0.8766\n",
      "./trees/model_size_small_num_classes_1000_allowed_threshold_0.5_loss_threshold_0.1_top_p_0.9_max_depth_7_max_width_128_temperature_0.75_width_decay_factor_0.56.json: Entropy = 8.9435, Normalized Entropy = 0.9522\n",
      "./trees/model_size_small_num_classes_100_allowed_threshold_0.5_loss_threshold_0.1_top_p_0.9_max_depth_10_max_width_128_temperature_0.75_width_decay_factor_0.66.json: Entropy = 8.8805, Normalized Entropy = 0.9245\n",
      "./trees/model_size_small_num_classes_100_allowed_threshold_0.5_loss_threshold_0.1_top_p_0.9_max_depth_13_max_width_128_temperature_0.75_width_decay_factor_0.73.json: Entropy = 8.7378, Normalized Entropy = 0.8365\n",
      "./trees/model_size_small_num_classes_100_allowed_threshold_0.5_loss_threshold_0.1_top_p_0.9_max_depth_14_max_width_128_temperature_0.75_width_decay_factor_0.75.json: Entropy = 8.6459, Normalized Entropy = 0.7955\n",
      "./trees/model_size_small_num_classes_100_allowed_threshold_0.5_loss_threshold_0.1_top_p_0.9_max_depth_9_max_width_128_temperature_0.75_width_decay_factor_0.63.json: Entropy = 8.6364, Normalized Entropy = 0.9375\n",
      "./trees/model_size_small_num_classes_100_allowed_threshold_0.5_loss_threshold_0.1_top_p_0.9_max_depth_8_max_width_128_temperature_0.75_width_decay_factor_0.6.json: Entropy = 8.6068, Normalized Entropy = 0.9452\n",
      "./trees/model_size_small_num_classes_100_allowed_threshold_0.5_loss_threshold_0.1_top_p_0.9_max_depth_15_max_width_128_temperature_0.75_width_decay_factor_0.76.json: Entropy = 8.5088, Normalized Entropy = 0.7824\n",
      "./trees/model_size_small_num_classes_10000_allowed_threshold_0.5_loss_threshold_0.1_top_p_0.9_max_depth_6_max_width_128_temperature_0.75_width_decay_factor_0.5.json: Entropy = 8.4812, Normalized Entropy = 0.9662\n",
      "./trees/model_size_small_num_classes_100_allowed_threshold_0.5_loss_threshold_0.1_top_p_0.9_max_depth_7_max_width_128_temperature_0.75_width_decay_factor_0.56.json: Entropy = 8.0070, Normalized Entropy = 0.9536\n",
      "./trees/model_size_small_num_classes_1000_allowed_threshold_0.5_loss_threshold_0.1_top_p_0.9_max_depth_6_max_width_128_temperature_0.75_width_decay_factor_0.5.json: Entropy = 7.7832, Normalized Entropy = 0.9544\n",
      "./trees/model_size_small_num_classes_10000_allowed_threshold_0.5_loss_threshold_0.1_top_p_0.9_max_depth_5_max_width_128_temperature_0.75_width_decay_factor_0.44.json: Entropy = 7.4047, Normalized Entropy = 0.9715\n",
      "./trees/model_size_small_num_classes_100_allowed_threshold_0.5_loss_threshold_0.1_top_p_0.9_max_depth_6_max_width_128_temperature_0.75_width_decay_factor_0.5.json: Entropy = 7.1080, Normalized Entropy = 0.9593\n",
      "./trees/model_size_small_num_classes_1000_allowed_threshold_0.5_loss_threshold_0.1_top_p_0.9_max_depth_5_max_width_128_temperature_0.75_width_decay_factor_0.44.json: Entropy = 6.8800, Normalized Entropy = 0.9596\n",
      "./trees/model_size_small_num_classes_100_allowed_threshold_0.5_loss_threshold_0.1_top_p_0.9_max_depth_5_max_width_128_temperature_0.75_width_decay_factor_0.44.json: Entropy = 6.3762, Normalized Entropy = 0.9705\n",
      "./trees/model_size_small_num_classes_1000_allowed_threshold_0.5_loss_threshold_0.1_top_p_0.9_max_depth_4_max_width_128_temperature_0.75_width_decay_factor_0.36.json: Entropy = 5.9226, Normalized Entropy = 0.9696\n",
      "./trees/model_size_small_num_classes_100_allowed_threshold_0.5_loss_threshold_0.1_top_p_0.9_max_depth_4_max_width_128_temperature_0.75_width_decay_factor_0.36.json: Entropy = 5.8367, Normalized Entropy = 0.9765\n",
      "./trees/model_size_small_num_classes_10000_allowed_threshold_0.5_loss_threshold_0.1_top_p_0.9_max_depth_4_max_width_128_temperature_0.75_width_decay_factor_0.36.json: Entropy = 5.6250, Normalized Entropy = 0.9820\n"
     ]
    },
    {
     "name": "stderr",
     "output_type": "stream",
     "text": [
      "\n"
     ]
    }
   ],
   "source": [
    "import glob\n",
    "import json\n",
    "import math\n",
    "from tqdm.auto import tqdm\n",
    "from collections import Counter\n",
    "\n",
    "def calculate_entropy(hist, normalize=False):\n",
    "    \"\"\"Calculate Shannon entropy given a histogram (Counter) of counts.\n",
    "    \n",
    "    Args:\n",
    "        hist (Counter): A histogram of counts (label frequencies).\n",
    "        normalize (bool): If True, normalize the entropy by the max possible entropy.\n",
    "\n",
    "    Returns:\n",
    "        float: Computed entropy (normalized if specified).\n",
    "    \"\"\"\n",
    "    total = sum(hist.values())\n",
    "    if total == 0:\n",
    "        return 0\n",
    "    \n",
    "    entropy = 0\n",
    "    for count in hist.values():\n",
    "        if count > 0:\n",
    "            p = count / total\n",
    "            entropy -= p * math.log2(p)\n",
    "\n",
    "    if normalize:\n",
    "        num_categories = len(hist)\n",
    "        if num_categories > 1:\n",
    "            entropy /= math.log2(num_categories)  # Normalize by max entropy\n",
    "        else:\n",
    "            entropy = 0  # If there's only one category, normalized entropy is 0\n",
    "    \n",
    "    return entropy\n",
    "\n",
    "file_pattern = './trees/*.json'\n",
    "results = []\n",
    "\n",
    "# Process each JSON file matching the pattern\n",
    "for file_path in glob.glob(file_pattern):\n",
    "    try:\n",
    "        with open(file_path, 'r', encoding='utf-8') as file:\n",
    "            data = json.load(file)\n",
    "        \n",
    "        nodes = data.get('nodes', [])\n",
    "        # Extract the node labels\n",
    "        labels = [node.get('label', '') for node in nodes]\n",
    "        \n",
    "        # Build a histogram of node labels\n",
    "        hist = Counter(labels)\n",
    "        \n",
    "        # Calculate the Shannon entropy (both raw and normalized)\n",
    "        entropy = calculate_entropy(hist)\n",
    "        norm_entropy = calculate_entropy(hist, normalize=True)\n",
    "        \n",
    "        results.append((file_path, entropy, norm_entropy))\n",
    "    except Exception as e:\n",
    "        print(f\"Error processing {file_path}: {e}\")\n",
    "\n",
    "# Sort the results by normalized entropy (descending order)\n",
    "results.sort(key=lambda x: x[1], reverse=True)\n",
    "\n",
    "# Print out the filename and the computed entropy\n",
    "for file_path, entropy, norm_entropy in tqdm(results):\n",
    "    print(f\"{file_path}: Entropy = {entropy:.4f}, Normalized Entropy = {norm_entropy:.4f}\")\n"
   ]
  },
  {
   "cell_type": "markdown",
   "metadata": {},
   "source": [
    "## Sort by average children"
   ]
  },
  {
   "cell_type": "code",
   "execution_count": 2,
   "metadata": {},
   "outputs": [
    {
     "name": "stderr",
     "output_type": "stream",
     "text": [
      "100%|██████████| 37/37 [00:00<00:00, 287387.50it/s]"
     ]
    },
    {
     "name": "stdout",
     "output_type": "stream",
     "text": [
      "./trees/model_size_small_num_classes_10000_allowed_threshold_0.5_loss_threshold_0.1_top_p_0.9_max_depth_6_max_width_128_temperature_0.75_width_decay_factor_0.5.json: Average children = 2.0376\n",
      "./trees/model_size_small_num_classes_10000_allowed_threshold_0.5_loss_threshold_0.1_top_p_0.9_max_depth_5_max_width_128_temperature_0.75_width_decay_factor_0.44.json: Average children = 1.9926\n",
      "./trees/model_size_small_num_classes_1000_allowed_threshold_0.5_loss_threshold_0.1_top_p_0.9_max_depth_6_max_width_128_temperature_0.75_width_decay_factor_0.5.json: Average children = 1.9368\n",
      "./trees/model_size_small_num_classes_1000_allowed_threshold_0.5_loss_threshold_0.1_top_p_0.9_max_depth_4_max_width_128_temperature_0.75_width_decay_factor_0.36.json: Average children = 1.9362\n",
      "./trees/model_size_small_num_classes_10000_allowed_threshold_0.5_loss_threshold_0.1_top_p_0.9_max_depth_4_max_width_128_temperature_0.75_width_decay_factor_0.36.json: Average children = 1.9091\n",
      "./trees/model_size_small_num_classes_100_allowed_threshold_0.5_loss_threshold_0.1_top_p_0.9_max_depth_4_max_width_128_temperature_0.75_width_decay_factor_0.36.json: Average children = 1.9048\n",
      "./trees/model_size_small_num_classes_1000_allowed_threshold_0.5_loss_threshold_0.1_top_p_0.9_max_depth_5_max_width_128_temperature_0.75_width_decay_factor_0.44.json: Average children = 1.8595\n",
      "./trees/model_size_small_num_classes_1000_allowed_threshold_0.5_loss_threshold_0.1_top_p_0.9_max_depth_7_max_width_128_temperature_0.75_width_decay_factor_0.56.json: Average children = 1.8519\n",
      "./trees/model_size_small_num_classes_100_allowed_threshold_0.5_loss_threshold_0.1_top_p_0.9_max_depth_5_max_width_128_temperature_0.75_width_decay_factor_0.44.json: Average children = 1.8378\n",
      "./trees/model_size_small_num_classes_10000_allowed_threshold_0.5_loss_threshold_0.1_top_p_0.9_max_depth_7_max_width_128_temperature_0.75_width_decay_factor_0.56.json: Average children = 1.8260\n",
      "./trees/model_size_small_num_classes_100_allowed_threshold_0.5_loss_threshold_0.1_top_p_0.9_max_depth_6_max_width_128_temperature_0.75_width_decay_factor_0.5.json: Average children = 1.8214\n",
      "./trees/model_size_small_num_classes_10000_allowed_threshold_0.5_loss_threshold_0.1_top_p_0.9_max_depth_8_max_width_128_temperature_0.75_width_decay_factor_0.6.json: Average children = 1.8117\n",
      "./trees/model_size_small_num_classes_100_allowed_threshold_0.5_loss_threshold_0.1_top_p_0.9_max_depth_8_max_width_128_temperature_0.75_width_decay_factor_0.6.json: Average children = 1.7932\n",
      "./trees/model_size_small_num_classes_1000_allowed_threshold_0.5_loss_threshold_0.1_top_p_0.9_max_depth_8_max_width_128_temperature_0.75_width_decay_factor_0.6.json: Average children = 1.7694\n",
      "./trees/model_size_small_num_classes_100_allowed_threshold_0.5_loss_threshold_0.1_top_p_0.9_max_depth_7_max_width_128_temperature_0.75_width_decay_factor_0.56.json: Average children = 1.7506\n",
      "./trees/model_size_small_num_classes_100_allowed_threshold_0.5_loss_threshold_0.1_top_p_0.9_max_depth_14_max_width_128_temperature_0.75_width_decay_factor_0.75.json: Average children = 1.6816\n",
      "./trees/model_size_small_num_classes_100_allowed_threshold_0.5_loss_threshold_0.1_top_p_0.9_max_depth_13_max_width_128_temperature_0.75_width_decay_factor_0.73.json: Average children = 1.6745\n",
      "./trees/model_size_small_num_classes_10000_allowed_threshold_0.5_loss_threshold_0.1_top_p_0.9_max_depth_16_max_width_128_temperature_0.75_width_decay_factor_0.78.json: Average children = 1.6707\n",
      "./trees/model_size_small_num_classes_1000_allowed_threshold_0.5_loss_threshold_0.1_top_p_0.9_max_depth_14_max_width_128_temperature_0.75_width_decay_factor_0.75.json: Average children = 1.6667\n",
      "./trees/model_size_small_num_classes_100_allowed_threshold_0.5_loss_threshold_0.1_top_p_0.9_max_depth_11_max_width_128_temperature_0.75_width_decay_factor_0.69.json: Average children = 1.6664\n",
      "./trees/model_size_small_num_classes_10000_allowed_threshold_0.5_loss_threshold_0.1_top_p_0.9_max_depth_14_max_width_128_temperature_0.75_width_decay_factor_0.75.json: Average children = 1.6606\n",
      "./trees/model_size_small_num_classes_100_allowed_threshold_0.5_loss_threshold_0.1_top_p_0.9_max_depth_15_max_width_128_temperature_0.75_width_decay_factor_0.76.json: Average children = 1.6433\n",
      "./trees/model_size_small_num_classes_10000_allowed_threshold_0.5_loss_threshold_0.1_top_p_0.9_max_depth_15_max_width_128_temperature_0.75_width_decay_factor_0.76.json: Average children = 1.6394\n",
      "./trees/model_size_small_num_classes_10000_allowed_threshold_0.5_loss_threshold_0.1_top_p_0.9_max_depth_11_max_width_128_temperature_0.75_width_decay_factor_0.69.json: Average children = 1.6383\n",
      "./trees/model_size_small_num_classes_100_allowed_threshold_0.5_loss_threshold_0.1_top_p_0.9_max_depth_12_max_width_128_temperature_0.75_width_decay_factor_0.71.json: Average children = 1.6368\n",
      "./trees/model_size_small_num_classes_1000_allowed_threshold_0.5_loss_threshold_0.1_top_p_0.9_max_depth_13_max_width_128_temperature_0.75_width_decay_factor_0.73.json: Average children = 1.6357\n",
      "./trees/model_size_small_num_classes_1000_allowed_threshold_0.5_loss_threshold_0.1_top_p_0.9_max_depth_15_max_width_128_temperature_0.75_width_decay_factor_0.76.json: Average children = 1.6331\n",
      "./trees/model_size_small_num_classes_10000_allowed_threshold_0.5_loss_threshold_0.1_top_p_0.9_max_depth_13_max_width_128_temperature_0.75_width_decay_factor_0.73.json: Average children = 1.6328\n",
      "./trees/model_size_small_num_classes_1000_allowed_threshold_0.5_loss_threshold_0.1_top_p_0.9_max_depth_11_max_width_128_temperature_0.75_width_decay_factor_0.69.json: Average children = 1.6231\n",
      "./trees/model_size_small_num_classes_10000_allowed_threshold_0.5_loss_threshold_0.1_top_p_0.9_max_depth_12_max_width_128_temperature_0.75_width_decay_factor_0.71.json: Average children = 1.6134\n",
      "./trees/model_size_small_num_classes_1000_allowed_threshold_0.5_loss_threshold_0.1_top_p_0.9_max_depth_12_max_width_128_temperature_0.75_width_decay_factor_0.71.json: Average children = 1.6026\n",
      "./trees/model_size_small_num_classes_10000_allowed_threshold_0.5_loss_threshold_0.1_top_p_0.9_max_depth_10_max_width_128_temperature_0.75_width_decay_factor_0.66.json: Average children = 1.5742\n",
      "./trees/model_size_small_num_classes_10000_allowed_threshold_0.5_loss_threshold_0.1_top_p_0.9_max_depth_9_max_width_128_temperature_0.75_width_decay_factor_0.63.json: Average children = 1.5626\n",
      "./trees/model_size_small_num_classes_100_allowed_threshold_0.5_loss_threshold_0.1_top_p_0.9_max_depth_10_max_width_128_temperature_0.75_width_decay_factor_0.66.json: Average children = 1.5557\n",
      "./trees/model_size_small_num_classes_1000_allowed_threshold_0.5_loss_threshold_0.1_top_p_0.9_max_depth_10_max_width_128_temperature_0.75_width_decay_factor_0.66.json: Average children = 1.5396\n",
      "./trees/model_size_small_num_classes_1000_allowed_threshold_0.5_loss_threshold_0.1_top_p_0.9_max_depth_9_max_width_128_temperature_0.75_width_decay_factor_0.63.json: Average children = 1.5314\n",
      "./trees/model_size_small_num_classes_100_allowed_threshold_0.5_loss_threshold_0.1_top_p_0.9_max_depth_9_max_width_128_temperature_0.75_width_decay_factor_0.63.json: Average children = 1.5122\n"
     ]
    },
    {
     "name": "stderr",
     "output_type": "stream",
     "text": [
      "\n"
     ]
    }
   ],
   "source": [
    "import glob\n",
    "import json\n",
    "from tqdm.auto import tqdm\n",
    "from collections import defaultdict\n",
    "\n",
    "file_pattern = './trees/*.json'\n",
    "results = []\n",
    "\n",
    "# Process each JSON file matching the pattern\n",
    "for file_path in glob.glob(file_pattern):\n",
    "    try:\n",
    "        with open(file_path, 'r', encoding='utf-8') as file:\n",
    "            data = json.load(file)\n",
    "        \n",
    "        # Count children for each parent node based on the edges\n",
    "        edges = data.get('edges', [])\n",
    "        children_counts = defaultdict(int)\n",
    "        for edge in edges:\n",
    "            parent = edge.get('source')\n",
    "            if parent is not None:\n",
    "                children_counts[parent] += 1\n",
    "        \n",
    "        # Compute the average number of children per parent node\n",
    "        if children_counts:\n",
    "            avg_children = sum(children_counts.values()) / len(children_counts)\n",
    "        else:\n",
    "            avg_children = 0\n",
    "        \n",
    "        results.append((file_path, avg_children))\n",
    "    except Exception as e:\n",
    "        print(f\"Error processing {file_path}: {e}\")\n",
    "\n",
    "# Sort the results by average number of children (descending order)\n",
    "results.sort(key=lambda x: x[1], reverse=True)\n",
    "\n",
    "# Print out the filename and the average number of children\n",
    "for file_path, avg_children in tqdm(results):\n",
    "    print(f\"{file_path}: Average children = {avg_children:.4f}\")\n"
   ]
  }
 ],
 "metadata": {
  "kernelspec": {
   "display_name": "dev-python3.11",
   "language": "python",
   "name": "python3"
  },
  "language_info": {
   "codemirror_mode": {
    "name": "ipython",
    "version": 3
   },
   "file_extension": ".py",
   "mimetype": "text/x-python",
   "name": "python",
   "nbconvert_exporter": "python",
   "pygments_lexer": "ipython3",
   "version": "3.11.11"
  }
 },
 "nbformat": 4,
 "nbformat_minor": 2
}
