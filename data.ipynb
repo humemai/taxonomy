{
 "cells": [
  {
   "cell_type": "markdown",
   "metadata": {},
   "source": [
    "# Data overview"
   ]
  },
  {
   "cell_type": "markdown",
   "metadata": {},
   "source": [
    "## p279"
   ]
  },
  {
   "cell_type": "code",
   "execution_count": 12,
   "metadata": {},
   "outputs": [
    {
     "name": "stdout",
     "output_type": "stream",
     "text": [
      "Found 2275 TSV files in 'P279'.\n",
      "Loaded 4201747 child entities and 282692 parent entities.\n",
      "\n"
     ]
    },
    {
     "name": "stderr",
     "output_type": "stream",
     "text": [
      "100%|██████████| 4201747/4201747 [00:00<00:00, 6318185.85it/s]\n"
     ]
    },
    {
     "name": "stdout",
     "output_type": "stream",
     "text": [
      "Nodes with multiple parents: 666843 out of 4201747 children.\n",
      "sample size is 4201747\n",
      "Found 4834625 cycles in the subsample.\n"
     ]
    }
   ],
   "source": [
    "import os\n",
    "import glob\n",
    "import random\n",
    "from collections import defaultdict, deque\n",
    "import matplotlib.pyplot as plt\n",
    "import networkx as nx\n",
    "from tqdm.auto import tqdm\n",
    "\n",
    "\n",
    "def load_triples(p279_dir):\n",
    "    \"\"\"\n",
    "    Read all TSV files in the directory and build two mappings:\n",
    "    - child_to_parents: child -> list of parent classes\n",
    "    - parent_to_children: parent -> list of subclasses\n",
    "    \"\"\"\n",
    "    child_to_parents = defaultdict(list)\n",
    "    parent_to_children = defaultdict(list)\n",
    "    tsv_files = glob.glob(os.path.join(p279_dir, \"*.tsv\"))\n",
    "    print(f\"Found {len(tsv_files)} TSV files in '{p279_dir}'.\")\n",
    "\n",
    "    for filename in tsv_files:\n",
    "        with open(filename, \"r\", encoding=\"utf-8\") as f:\n",
    "            header = f.readline()  # skip header line\n",
    "            for line in f:\n",
    "                parts = line.strip().split(\"\\t\")\n",
    "                if len(parts) != 3:\n",
    "                    continue\n",
    "                child, prop, parent = parts\n",
    "                child_to_parents[child].append(parent)\n",
    "                parent_to_children[parent].append(child)\n",
    "    return child_to_parents, parent_to_children\n",
    "\n",
    "\n",
    "child_to_parents, parent_to_children = load_triples(\"P279\")\n",
    "print(\n",
    "    f\"Loaded {len(child_to_parents)} child entities and {len(parent_to_children)} parent entities.\\n\"\n",
    ")\n",
    "\n",
    "# 1. Count nodes with multiple parents\n",
    "multiple_parents = {\n",
    "    child: parents for child, parents in tqdm(child_to_parents.items()) if len(parents) > 1\n",
    "}\n",
    "print(\n",
    "    f\"Nodes with multiple parents: {len(multiple_parents)} out of {len(child_to_parents)} children.\"\n",
    ")\n",
    "\n",
    "\n",
    "\n",
    "def find_cycles_in_subsample(child_to_parents, sample_size):\n",
    "    # Take a random subsample of the keys in child_to_parents\n",
    "    sample_nodes = random.sample(list(child_to_parents.keys()), min(sample_size, len(child_to_parents)))\n",
    "    print(f\"sample size is {len(sample_nodes)}\")\n",
    "\n",
    "    cycles = []\n",
    "    visited = set()\n",
    "\n",
    "    def dfs(node, path, local_visited):\n",
    "        if node in path:\n",
    "            cycles.append(path[path.index(node):] + [node])\n",
    "            return\n",
    "        if node in local_visited:\n",
    "            # Already processed this branch from another starting point\n",
    "            return\n",
    "        local_visited.add(node)\n",
    "        for parent in child_to_parents.get(node, []):\n",
    "            dfs(parent, path + [node], local_visited)\n",
    "\n",
    "    for node in sample_nodes:\n",
    "        if node not in visited:\n",
    "            local_visited = set()\n",
    "            dfs(node, [], local_visited)\n",
    "            visited.update(local_visited)\n",
    "    return cycles\n",
    "\n",
    "# Example usage:\n",
    "subsample_cycles = find_cycles_in_subsample(child_to_parents, sample_size=1000000000)\n",
    "print(f\"Found {len(subsample_cycles)} cycles in the subsample.\")"
   ]
  }
 ],
 "metadata": {
  "kernelspec": {
   "display_name": "dev-python3.11",
   "language": "python",
   "name": "python3"
  },
  "language_info": {
   "codemirror_mode": {
    "name": "ipython",
    "version": 3
   },
   "file_extension": ".py",
   "mimetype": "text/x-python",
   "name": "python",
   "nbconvert_exporter": "python",
   "pygments_lexer": "ipython3",
   "version": "3.11.11"
  }
 },
 "nbformat": 4,
 "nbformat_minor": 2
}
