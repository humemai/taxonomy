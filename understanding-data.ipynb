{
 "cells": [
  {
   "cell_type": "markdown",
   "metadata": {},
   "source": [
    "# Data overview\n",
    "\n",
    "From the `*.log` files that as of 09-Feb-2025, you can see:\n",
    "\n",
    "- Total entities: 113,721,673\n",
    "- Total entities that have English labels: 88,923,509\n",
    "- Total properties: 12,397\n",
    "- Ony 90,816 entities (classes) have instances in Wikidata, which is about 0.079% of the total entities.\n",
    "- ![](./process_p31_p279/classes_cumulative_distribution.png)\n",
    "- Above image shows that even among 90,816 entities, there few entities have most of the instances.\n",
    "- There are 4,932,987 (a, subclass_of, b) relationships we can find.\n",
    "- 4,201,747 child entities have parent entities through subclass_of (P279). This is lower than 4,932,987, since one child entity can have multiple parent entities\n",
    "- Out of 4,201,747 child entities, 666,843 have multiple parent entities (P279), which violates the hierarchical tree structure. What is worse than from child-to-parent realtionships we can find 4,831,313 cycles using DFS!\n",
    "- There are 121,437,570 (a, instance_of, b) relationships we can find through P31. This is a bigger number that that of P279. The wikidata users are more likely to write about instance_of relationships than subclass_of relationships.\n",
    "- 96,392,021 entities have English descriptions. This is kinda odd cuz it means that there are more entities with English labels than English descriptions. I'd have expected that it's the other way around."
   ]
  },
  {
   "cell_type": "markdown",
   "metadata": {},
   "source": [
    "## Count triples and stuff"
   ]
  },
  {
   "cell_type": "code",
   "execution_count": 1,
   "metadata": {},
   "outputs": [
    {
     "name": "stderr",
     "output_type": "stream",
     "text": [
      "/home/tk/.virtualenvs/dev-python3.11/lib/python3.11/site-packages/tqdm/auto.py:21: TqdmWarning: IProgress not found. Please update jupyter and ipywidgets. See https://ipywidgets.readthedocs.io/en/stable/user_install.html\n",
      "  from .autonotebook import tqdm as notebook_tqdm\n"
     ]
    },
    {
     "name": "stdout",
     "output_type": "stream",
     "text": [
      "Found 2275 TSV files in 'P279'.\n"
     ]
    },
    {
     "name": "stderr",
     "output_type": "stream",
     "text": [
      "  0%|          | 0/2275 [00:00<?, ?it/s]"
     ]
    },
    {
     "name": "stderr",
     "output_type": "stream",
     "text": [
      "100%|██████████| 2275/2275 [00:08<00:00, 276.60it/s]\n"
     ]
    },
    {
     "name": "stdout",
     "output_type": "stream",
     "text": [
      "Loaded 4932987 triples from 'P279'.\n",
      "\n",
      "P279: Loaded 4201747 child entities and 282692 parent entities.\n",
      "\n"
     ]
    },
    {
     "name": "stderr",
     "output_type": "stream",
     "text": [
      "P279: Counting multiple parents: 100%|██████████| 4201747/4201747 [00:00<00:00, 6228200.82it/s]\n"
     ]
    },
    {
     "name": "stdout",
     "output_type": "stream",
     "text": [
      "P279: Nodes with multiple parents: 666843 out of 4201747 children.\n",
      "\n"
     ]
    },
    {
     "name": "stderr",
     "output_type": "stream",
     "text": [
      "P279: Finding cycles (full scan): 100%|██████████| 4201747/4201747 [01:14<00:00, 56690.58it/s] \n"
     ]
    },
    {
     "name": "stdout",
     "output_type": "stream",
     "text": [
      "\n",
      "P279: Found 4831313 cycles in the data.\n",
      "Found 2275 TSV files in './P31/'.\n"
     ]
    },
    {
     "name": "stderr",
     "output_type": "stream",
     "text": [
      "100%|██████████| 2275/2275 [00:20<00:00, 113.60it/s]\n"
     ]
    },
    {
     "name": "stdout",
     "output_type": "stream",
     "text": [
      "Loaded 121437570 triples from './P31/'.\n",
      "Found 2275 TSV files in './en_description/'.\n"
     ]
    },
    {
     "name": "stderr",
     "output_type": "stream",
     "text": [
      "100%|██████████| 2275/2275 [00:15<00:00, 145.99it/s]"
     ]
    },
    {
     "name": "stdout",
     "output_type": "stream",
     "text": [
      "Loaded 96392021 en_descrioptions from './en_description/'.\n"
     ]
    },
    {
     "name": "stderr",
     "output_type": "stream",
     "text": [
      "\n"
     ]
    }
   ],
   "source": [
    "import os\n",
    "import glob\n",
    "from collections import defaultdict\n",
    "from tqdm.auto import tqdm\n",
    "\n",
    "\n",
    "def load_triples(directory):\n",
    "    \"\"\"\n",
    "    Read all TSV files in the specified directory and build two mappings:\n",
    "    - child_to_parents: child -> list of parent classes (or instance classes)\n",
    "    - parent_to_children: parent -> list of subclasses (or entities)\n",
    "\n",
    "    Args:\n",
    "        directory (str): Directory containing TSV files.\n",
    "\n",
    "    Returns:\n",
    "        tuple: (child_to_parents, parent_to_children)\n",
    "    \"\"\"\n",
    "    triple_count = 0\n",
    "    child_to_parents = defaultdict(list)\n",
    "    parent_to_children = defaultdict(list)\n",
    "    tsv_files = glob.glob(os.path.join(directory, \"*.tsv\"))\n",
    "    print(f\"Found {len(tsv_files)} TSV files in '{directory}'.\")\n",
    "\n",
    "    for filename in tqdm(tsv_files):\n",
    "        with open(filename, \"r\", encoding=\"utf-8\") as f:\n",
    "            header = f.readline()  # skip header line\n",
    "            for line in f:\n",
    "                parts = line.strip().split(\"\\t\")\n",
    "                if len(parts) != 3:\n",
    "                    continue\n",
    "                triple_count += 1\n",
    "                child, prop, parent = parts\n",
    "                child_to_parents[child].append(parent)\n",
    "                parent_to_children[parent].append(child)\n",
    "    print(f\"Loaded {triple_count} triples from '{directory}'.\")\n",
    "    return child_to_parents, parent_to_children\n",
    "\n",
    "\n",
    "# ---------------------------\n",
    "# Process P279 (subclass) data\n",
    "# ---------------------------\n",
    "child_to_parents_p279, parent_to_children_p279 = load_triples(\"P279\")\n",
    "print(\n",
    "    f\"\\nP279: Loaded {len(child_to_parents_p279)} child entities and {len(parent_to_children_p279)} parent entities.\\n\"\n",
    ")\n",
    "\n",
    "# Count nodes with multiple parents in P279\n",
    "multiple_parents_p279 = {\n",
    "    child: parents\n",
    "    for child, parents in tqdm(\n",
    "        child_to_parents_p279.items(), desc=\"P279: Counting multiple parents\"\n",
    "    )\n",
    "    if len(parents) > 1\n",
    "}\n",
    "print(\n",
    "    f\"P279: Nodes with multiple parents: {len(multiple_parents_p279)} out of {len(child_to_parents_p279)} children.\\n\"\n",
    ")\n",
    "\n",
    "\n",
    "# Function to detect cycles (applied only on P279, where cycles in subclass relationships may occur)\n",
    "def find_cycles_full(child_to_parents):\n",
    "    \"\"\"\n",
    "    Detect cycles by performing DFS on the entire mapping.\n",
    "    Returns a list of cycles found.\n",
    "    \"\"\"\n",
    "    cycles = []\n",
    "    visited = set()\n",
    "\n",
    "    def dfs(node, path, local_visited):\n",
    "        if node in path:\n",
    "            cycles.append(path[path.index(node) :] + [node])\n",
    "            return\n",
    "        if node in local_visited:\n",
    "            return\n",
    "        local_visited.add(node)\n",
    "        for parent in child_to_parents.get(node, []):\n",
    "            dfs(parent, path + [node], local_visited)\n",
    "\n",
    "    for node in tqdm(child_to_parents.keys(), desc=\"P279: Finding cycles (full scan)\"):\n",
    "        if node not in visited:\n",
    "            local_visited = set()\n",
    "            dfs(node, [], local_visited)\n",
    "            visited.update(local_visited)\n",
    "    return cycles\n",
    "\n",
    "\n",
    "# Detect cycles in P279 data (full scan, not sampling)\n",
    "cycles_p279 = find_cycles_full(child_to_parents_p279)\n",
    "print(f\"\\nP279: Found {len(cycles_p279)} cycles in the data.\")\n",
    "\n",
    "\n",
    "# Count the number of triples for P31\n",
    "directory = \"./P31/\"\n",
    "triple_count = 0\n",
    "tsv_files = glob.glob(os.path.join(directory, \"*.tsv\"))\n",
    "print(f\"Found {len(tsv_files)} TSV files in '{directory}'.\")\n",
    "\n",
    "for filename in tqdm(tsv_files):\n",
    "    with open(filename, \"r\", encoding=\"utf-8\") as f:\n",
    "        header = f.readline()  # skip header line\n",
    "        for line in f:\n",
    "            parts = line.strip().split(\"\\t\")\n",
    "            if len(parts) != 3:\n",
    "                continue\n",
    "            triple_count += 1\n",
    "print(f\"Loaded {triple_count} triples from '{directory}'.\")\n",
    "\n",
    "\n",
    "# Count the number en_descriptions\n",
    "\n",
    "directory = \"./en_description/\"\n",
    "en_description_count = 0\n",
    "tsv_files = glob.glob(os.path.join(directory, \"*.tsv\"))\n",
    "print(f\"Found {len(tsv_files)} TSV files in '{directory}'.\")\n",
    "\n",
    "for filename in tqdm(tsv_files):\n",
    "    with open(filename, \"r\", encoding=\"utf-8\") as f:\n",
    "        header = f.readline()  # skip header line\n",
    "        for line in f:\n",
    "            parts = line.strip().split(\"\\t\")\n",
    "            en_description_count += 1\n",
    "print(f\"Loaded {en_description_count} en_descrioptions from '{directory}'.\")\n"
   ]
  }
 ],
 "metadata": {
  "kernelspec": {
   "display_name": "dev-python3.11",
   "language": "python",
   "name": "python3"
  },
  "language_info": {
   "codemirror_mode": {
    "name": "ipython",
    "version": 3
   },
   "file_extension": ".py",
   "mimetype": "text/x-python",
   "name": "python",
   "nbconvert_exporter": "python",
   "pygments_lexer": "ipython3",
   "version": "3.11.11"
  }
 },
 "nbformat": 4,
 "nbformat_minor": 2
}
