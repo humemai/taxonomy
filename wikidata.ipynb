{
 "cells": [
  {
   "cell_type": "code",
   "execution_count": 1,
   "metadata": {},
   "outputs": [],
   "source": [
    "# open json with utf-8 encoding\n",
    "import json\n",
    "import sys\n",
    "\n",
    "with open(\"./entity_instance_of.json\", \"r\", encoding=\"utf-8\") as f:\n",
    "    entity_instance_of = json.load(f)\n",
    "\n",
    "with open(\"./entity_subclass_of.json\", \"r\", encoding=\"utf-8\") as f:\n",
    "    entity_subclass_of = json.load(f)\n",
    "\n",
    "with open(\"./properties_used.json\", \"r\", encoding=\"utf-8\") as f:\n",
    "    properties_used = json.load(f)\n",
    "\n",
    "with open(\"./properties\", \"r\", encoding=\"utf-8\") as f:\n",
    "    properties = json.load(f)\n",
    "\n",
    "with open(\"./entityid2label.json\", \"r\", encoding=\"utf-8\") as f:\n",
    "    entityid2label = json.load(f)"
   ]
  },
  {
   "cell_type": "code",
   "execution_count": 2,
   "metadata": {},
   "outputs": [
    {
     "data": {
      "text/plain": [
       "110850810"
      ]
     },
     "execution_count": 2,
     "metadata": {},
     "output_type": "execute_result"
    }
   ],
   "source": [
    "len(data)"
   ]
  },
  {
   "cell_type": "code",
   "execution_count": 3,
   "metadata": {},
   "outputs": [],
   "source": [
    "for key, val in data.items():\n",
    "    pass"
   ]
  }
 ],
 "metadata": {
  "kernelspec": {
   "display_name": "humemai",
   "language": "python",
   "name": "python3"
  },
  "language_info": {
   "codemirror_mode": {
    "name": "ipython",
    "version": 3
   },
   "file_extension": ".py",
   "mimetype": "text/x-python",
   "name": "python",
   "nbconvert_exporter": "python",
   "pygments_lexer": "ipython3",
   "version": "3.10.12"
  }
 },
 "nbformat": 4,
 "nbformat_minor": 2
}
